{
 "cells": [
  {
   "cell_type": "markdown",
   "id": "45057dc8",
   "metadata": {},
   "source": [
    "## Import Libraries"
   ]
  },
  {
   "cell_type": "code",
   "execution_count": 2,
   "id": "7550208b",
   "metadata": {},
   "outputs": [],
   "source": [
    "# Import libraries\n",
    "\n",
    "import pandas as pd\n",
    "import numpy as np\n",
    "import os"
   ]
  },
  {
   "cell_type": "markdown",
   "id": "2a5b88ca",
   "metadata": {},
   "source": [
    "## Import Data"
   ]
  },
  {
   "cell_type": "code",
   "execution_count": 3,
   "id": "6471bcfe",
   "metadata": {},
   "outputs": [],
   "source": [
    "# Path\n",
    "\n",
    "path = r'C:\\Users\\micky\\OneDrive\\Documents\\Data Analytics Course\\Data Immersion\\Achievement 6\\6.1'"
   ]
  },
  {
   "cell_type": "code",
   "execution_count": 4,
   "id": "b97ecd2d",
   "metadata": {},
   "outputs": [],
   "source": [
    "#Create citibike\n",
    "\n",
    "citibike = pd.read_csv(os.path.join(path, 'Data', 'citibike.csv'), index_col = False)"
   ]
  },
  {
   "cell_type": "code",
   "execution_count": 5,
   "id": "9d54ccb4",
   "metadata": {},
   "outputs": [
    {
     "data": {
      "text/html": [
       "<div>\n",
       "<style scoped>\n",
       "    .dataframe tbody tr th:only-of-type {\n",
       "        vertical-align: middle;\n",
       "    }\n",
       "\n",
       "    .dataframe tbody tr th {\n",
       "        vertical-align: top;\n",
       "    }\n",
       "\n",
       "    .dataframe thead th {\n",
       "        text-align: right;\n",
       "    }\n",
       "</style>\n",
       "<table border=\"1\" class=\"dataframe\">\n",
       "  <thead>\n",
       "    <tr style=\"text-align: right;\">\n",
       "      <th></th>\n",
       "      <th>trip_id</th>\n",
       "      <th>bike_id</th>\n",
       "      <th>day_of_week</th>\n",
       "      <th>start_hour</th>\n",
       "      <th>start_time</th>\n",
       "      <th>end_time</th>\n",
       "      <th>trip_duration</th>\n",
       "      <th>start_station_id</th>\n",
       "      <th>start_station_name</th>\n",
       "      <th>start_station_latitude</th>\n",
       "      <th>start_station_longitude</th>\n",
       "      <th>end_station_id</th>\n",
       "      <th>end_station_name</th>\n",
       "      <th>end_station_latitude</th>\n",
       "      <th>end_station_longitude</th>\n",
       "      <th>subscriber</th>\n",
       "      <th>birth_year</th>\n",
       "      <th>gender</th>\n",
       "    </tr>\n",
       "  </thead>\n",
       "  <tbody>\n",
       "    <tr>\n",
       "      <th>0</th>\n",
       "      <td>LnQzQk</td>\n",
       "      <td>16013</td>\n",
       "      <td>Mon</td>\n",
       "      <td>18</td>\n",
       "      <td>9/9/2013 18:18</td>\n",
       "      <td>9/9/2013 18:35</td>\n",
       "      <td>993</td>\n",
       "      <td>523</td>\n",
       "      <td>W 38 St &amp; 8 Ave</td>\n",
       "      <td>40.754666</td>\n",
       "      <td>-73.991382</td>\n",
       "      <td>334</td>\n",
       "      <td>W 20 St &amp; 7 Ave</td>\n",
       "      <td>40.742388</td>\n",
       "      <td>-73.997262</td>\n",
       "      <td>Subscriber</td>\n",
       "      <td>1968.0</td>\n",
       "      <td>2</td>\n",
       "    </tr>\n",
       "    <tr>\n",
       "      <th>1</th>\n",
       "      <td>IL9boN</td>\n",
       "      <td>15230</td>\n",
       "      <td>Thu</td>\n",
       "      <td>18</td>\n",
       "      <td>9/12/2013 18:38</td>\n",
       "      <td>9/12/2013 18:48</td>\n",
       "      <td>581</td>\n",
       "      <td>257</td>\n",
       "      <td>Lispenard St &amp; Broadway</td>\n",
       "      <td>40.719392</td>\n",
       "      <td>-74.002472</td>\n",
       "      <td>236</td>\n",
       "      <td>St Marks Pl &amp; 2 Ave</td>\n",
       "      <td>40.728419</td>\n",
       "      <td>-73.987140</td>\n",
       "      <td>Subscriber</td>\n",
       "      <td>1983.0</td>\n",
       "      <td>1</td>\n",
       "    </tr>\n",
       "    <tr>\n",
       "      <th>2</th>\n",
       "      <td>46clGB</td>\n",
       "      <td>17942</td>\n",
       "      <td>Wed</td>\n",
       "      <td>19</td>\n",
       "      <td>9/18/2013 19:44</td>\n",
       "      <td>9/18/2013 19:50</td>\n",
       "      <td>361</td>\n",
       "      <td>479</td>\n",
       "      <td>9 Ave &amp; W 45 St</td>\n",
       "      <td>40.760193</td>\n",
       "      <td>-73.991255</td>\n",
       "      <td>513</td>\n",
       "      <td>W 56 St &amp; 10 Ave</td>\n",
       "      <td>40.768254</td>\n",
       "      <td>-73.988639</td>\n",
       "      <td>Subscriber</td>\n",
       "      <td>1989.0</td>\n",
       "      <td>1</td>\n",
       "    </tr>\n",
       "    <tr>\n",
       "      <th>3</th>\n",
       "      <td>v7vdFt</td>\n",
       "      <td>19683</td>\n",
       "      <td>Sat</td>\n",
       "      <td>11</td>\n",
       "      <td>9/28/2013 11:54</td>\n",
       "      <td>9/28/2013 12:03</td>\n",
       "      <td>561</td>\n",
       "      <td>527</td>\n",
       "      <td>E 33 St &amp; 1 Ave</td>\n",
       "      <td>40.743156</td>\n",
       "      <td>-73.974347</td>\n",
       "      <td>441</td>\n",
       "      <td>E 52 St &amp; 2 Ave</td>\n",
       "      <td>40.756014</td>\n",
       "      <td>-73.967416</td>\n",
       "      <td>Subscriber</td>\n",
       "      <td>1988.0</td>\n",
       "      <td>2</td>\n",
       "    </tr>\n",
       "    <tr>\n",
       "      <th>4</th>\n",
       "      <td>VGBsb5</td>\n",
       "      <td>18024</td>\n",
       "      <td>Sat</td>\n",
       "      <td>18</td>\n",
       "      <td>9/7/2013 18:08</td>\n",
       "      <td>9/7/2013 18:46</td>\n",
       "      <td>2296</td>\n",
       "      <td>521</td>\n",
       "      <td>8 Ave &amp; W 31 St</td>\n",
       "      <td>40.750450</td>\n",
       "      <td>-73.994811</td>\n",
       "      <td>476</td>\n",
       "      <td>E 31 St &amp; 3 Ave</td>\n",
       "      <td>40.743943</td>\n",
       "      <td>-73.979661</td>\n",
       "      <td>Non-Subscriber</td>\n",
       "      <td>NaN</td>\n",
       "      <td>0</td>\n",
       "    </tr>\n",
       "  </tbody>\n",
       "</table>\n",
       "</div>"
      ],
      "text/plain": [
       "  trip_id  bike_id day_of_week  start_hour       start_time         end_time  \\\n",
       "0  LnQzQk    16013         Mon          18   9/9/2013 18:18   9/9/2013 18:35   \n",
       "1  IL9boN    15230         Thu          18  9/12/2013 18:38  9/12/2013 18:48   \n",
       "2  46clGB    17942         Wed          19  9/18/2013 19:44  9/18/2013 19:50   \n",
       "3  v7vdFt    19683         Sat          11  9/28/2013 11:54  9/28/2013 12:03   \n",
       "4  VGBsb5    18024         Sat          18   9/7/2013 18:08   9/7/2013 18:46   \n",
       "\n",
       "   trip_duration  start_station_id       start_station_name  \\\n",
       "0            993               523          W 38 St & 8 Ave   \n",
       "1            581               257  Lispenard St & Broadway   \n",
       "2            361               479          9 Ave & W 45 St   \n",
       "3            561               527          E 33 St & 1 Ave   \n",
       "4           2296               521          8 Ave & W 31 St   \n",
       "\n",
       "   start_station_latitude  start_station_longitude  end_station_id  \\\n",
       "0               40.754666               -73.991382             334   \n",
       "1               40.719392               -74.002472             236   \n",
       "2               40.760193               -73.991255             513   \n",
       "3               40.743156               -73.974347             441   \n",
       "4               40.750450               -73.994811             476   \n",
       "\n",
       "      end_station_name  end_station_latitude  end_station_longitude  \\\n",
       "0      W 20 St & 7 Ave             40.742388             -73.997262   \n",
       "1  St Marks Pl & 2 Ave             40.728419             -73.987140   \n",
       "2     W 56 St & 10 Ave             40.768254             -73.988639   \n",
       "3      E 52 St & 2 Ave             40.756014             -73.967416   \n",
       "4      E 31 St & 3 Ave             40.743943             -73.979661   \n",
       "\n",
       "       subscriber  birth_year  gender  \n",
       "0      Subscriber      1968.0       2  \n",
       "1      Subscriber      1983.0       1  \n",
       "2      Subscriber      1989.0       1  \n",
       "3      Subscriber      1988.0       2  \n",
       "4  Non-Subscriber         NaN       0  "
      ]
     },
     "execution_count": 5,
     "metadata": {},
     "output_type": "execute_result"
    }
   ],
   "source": [
    "# Check columns for citibike\n",
    "\n",
    "citibike.head()"
   ]
  },
  {
   "cell_type": "code",
   "execution_count": 6,
   "id": "5e564254",
   "metadata": {},
   "outputs": [
    {
     "data": {
      "text/plain": [
       "(50000, 18)"
      ]
     },
     "execution_count": 6,
     "metadata": {},
     "output_type": "execute_result"
    }
   ],
   "source": [
    "# Check shape for citibike\n",
    "\n",
    "citibike.shape"
   ]
  },
  {
   "cell_type": "code",
   "execution_count": 7,
   "id": "6f4b12ad",
   "metadata": {},
   "outputs": [
    {
     "name": "stdout",
     "output_type": "stream",
     "text": [
      "<class 'pandas.core.frame.DataFrame'>\n",
      "RangeIndex: 50000 entries, 0 to 49999\n",
      "Data columns (total 18 columns):\n",
      " #   Column                   Non-Null Count  Dtype  \n",
      "---  ------                   --------------  -----  \n",
      " 0   trip_id                  50000 non-null  object \n",
      " 1   bike_id                  50000 non-null  int64  \n",
      " 2   day_of_week              50000 non-null  object \n",
      " 3   start_hour               50000 non-null  int64  \n",
      " 4   start_time               50000 non-null  object \n",
      " 5   end_time                 50000 non-null  object \n",
      " 6   trip_duration            50000 non-null  int64  \n",
      " 7   start_station_id         50000 non-null  int64  \n",
      " 8   start_station_name       50000 non-null  object \n",
      " 9   start_station_latitude   50000 non-null  float64\n",
      " 10  start_station_longitude  50000 non-null  float64\n",
      " 11  end_station_id           50000 non-null  int64  \n",
      " 12  end_station_name         50000 non-null  object \n",
      " 13  end_station_latitude     50000 non-null  float64\n",
      " 14  end_station_longitude    50000 non-null  float64\n",
      " 15  subscriber               50000 non-null  object \n",
      " 16  birth_year               43021 non-null  float64\n",
      " 17  gender                   50000 non-null  int64  \n",
      "dtypes: float64(5), int64(6), object(7)\n",
      "memory usage: 6.9+ MB\n"
     ]
    }
   ],
   "source": [
    "# Check info for citibike\n",
    "\n",
    "citibike.info()"
   ]
  },
  {
   "cell_type": "code",
   "execution_count": 8,
   "id": "056962be",
   "metadata": {},
   "outputs": [
    {
     "data": {
      "text/html": [
       "<div>\n",
       "<style scoped>\n",
       "    .dataframe tbody tr th:only-of-type {\n",
       "        vertical-align: middle;\n",
       "    }\n",
       "\n",
       "    .dataframe tbody tr th {\n",
       "        vertical-align: top;\n",
       "    }\n",
       "\n",
       "    .dataframe thead th {\n",
       "        text-align: right;\n",
       "    }\n",
       "</style>\n",
       "<table border=\"1\" class=\"dataframe\">\n",
       "  <thead>\n",
       "    <tr style=\"text-align: right;\">\n",
       "      <th></th>\n",
       "      <th>bike_id</th>\n",
       "      <th>start_hour</th>\n",
       "      <th>trip_duration</th>\n",
       "      <th>start_station_id</th>\n",
       "      <th>start_station_latitude</th>\n",
       "      <th>start_station_longitude</th>\n",
       "      <th>end_station_id</th>\n",
       "      <th>end_station_latitude</th>\n",
       "      <th>end_station_longitude</th>\n",
       "      <th>birth_year</th>\n",
       "      <th>gender</th>\n",
       "    </tr>\n",
       "  </thead>\n",
       "  <tbody>\n",
       "    <tr>\n",
       "      <th>count</th>\n",
       "      <td>50000.000000</td>\n",
       "      <td>50000.000000</td>\n",
       "      <td>50000.000000</td>\n",
       "      <td>50000.000000</td>\n",
       "      <td>50000.000000</td>\n",
       "      <td>50000.000000</td>\n",
       "      <td>50000.000000</td>\n",
       "      <td>50000.000000</td>\n",
       "      <td>50000.000000</td>\n",
       "      <td>43021.000000</td>\n",
       "      <td>50000.000000</td>\n",
       "    </tr>\n",
       "    <tr>\n",
       "      <th>mean</th>\n",
       "      <td>17615.269360</td>\n",
       "      <td>14.145240</td>\n",
       "      <td>838.982900</td>\n",
       "      <td>443.321500</td>\n",
       "      <td>40.734170</td>\n",
       "      <td>-73.991109</td>\n",
       "      <td>442.539700</td>\n",
       "      <td>40.733859</td>\n",
       "      <td>-73.991351</td>\n",
       "      <td>1975.627786</td>\n",
       "      <td>1.073540</td>\n",
       "    </tr>\n",
       "    <tr>\n",
       "      <th>std</th>\n",
       "      <td>1675.407446</td>\n",
       "      <td>4.860541</td>\n",
       "      <td>573.663997</td>\n",
       "      <td>356.559925</td>\n",
       "      <td>0.019911</td>\n",
       "      <td>0.012555</td>\n",
       "      <td>355.756022</td>\n",
       "      <td>0.019885</td>\n",
       "      <td>0.012569</td>\n",
       "      <td>11.089001</td>\n",
       "      <td>0.589389</td>\n",
       "    </tr>\n",
       "    <tr>\n",
       "      <th>min</th>\n",
       "      <td>14556.000000</td>\n",
       "      <td>0.000000</td>\n",
       "      <td>60.000000</td>\n",
       "      <td>72.000000</td>\n",
       "      <td>40.680342</td>\n",
       "      <td>-74.017134</td>\n",
       "      <td>72.000000</td>\n",
       "      <td>40.680342</td>\n",
       "      <td>-74.017134</td>\n",
       "      <td>1899.000000</td>\n",
       "      <td>0.000000</td>\n",
       "    </tr>\n",
       "    <tr>\n",
       "      <th>25%</th>\n",
       "      <td>16188.000000</td>\n",
       "      <td>10.000000</td>\n",
       "      <td>417.000000</td>\n",
       "      <td>304.000000</td>\n",
       "      <td>40.720196</td>\n",
       "      <td>-74.000271</td>\n",
       "      <td>304.000000</td>\n",
       "      <td>40.720196</td>\n",
       "      <td>-74.001547</td>\n",
       "      <td>1968.000000</td>\n",
       "      <td>1.000000</td>\n",
       "    </tr>\n",
       "    <tr>\n",
       "      <th>50%</th>\n",
       "      <td>17584.000000</td>\n",
       "      <td>15.000000</td>\n",
       "      <td>672.000000</td>\n",
       "      <td>402.000000</td>\n",
       "      <td>40.735877</td>\n",
       "      <td>-73.990765</td>\n",
       "      <td>402.000000</td>\n",
       "      <td>40.735354</td>\n",
       "      <td>-73.991218</td>\n",
       "      <td>1978.000000</td>\n",
       "      <td>1.000000</td>\n",
       "    </tr>\n",
       "    <tr>\n",
       "      <th>75%</th>\n",
       "      <td>19014.000000</td>\n",
       "      <td>18.000000</td>\n",
       "      <td>1112.000000</td>\n",
       "      <td>484.000000</td>\n",
       "      <td>40.750020</td>\n",
       "      <td>-73.981923</td>\n",
       "      <td>483.000000</td>\n",
       "      <td>40.749013</td>\n",
       "      <td>-73.982050</td>\n",
       "      <td>1984.000000</td>\n",
       "      <td>1.000000</td>\n",
       "    </tr>\n",
       "    <tr>\n",
       "      <th>max</th>\n",
       "      <td>20642.000000</td>\n",
       "      <td>23.000000</td>\n",
       "      <td>2697.000000</td>\n",
       "      <td>3002.000000</td>\n",
       "      <td>40.770513</td>\n",
       "      <td>-73.950048</td>\n",
       "      <td>3002.000000</td>\n",
       "      <td>40.770513</td>\n",
       "      <td>-73.950048</td>\n",
       "      <td>1997.000000</td>\n",
       "      <td>2.000000</td>\n",
       "    </tr>\n",
       "  </tbody>\n",
       "</table>\n",
       "</div>"
      ],
      "text/plain": [
       "            bike_id    start_hour  trip_duration  start_station_id  \\\n",
       "count  50000.000000  50000.000000   50000.000000      50000.000000   \n",
       "mean   17615.269360     14.145240     838.982900        443.321500   \n",
       "std     1675.407446      4.860541     573.663997        356.559925   \n",
       "min    14556.000000      0.000000      60.000000         72.000000   \n",
       "25%    16188.000000     10.000000     417.000000        304.000000   \n",
       "50%    17584.000000     15.000000     672.000000        402.000000   \n",
       "75%    19014.000000     18.000000    1112.000000        484.000000   \n",
       "max    20642.000000     23.000000    2697.000000       3002.000000   \n",
       "\n",
       "       start_station_latitude  start_station_longitude  end_station_id  \\\n",
       "count            50000.000000             50000.000000    50000.000000   \n",
       "mean                40.734170               -73.991109      442.539700   \n",
       "std                  0.019911                 0.012555      355.756022   \n",
       "min                 40.680342               -74.017134       72.000000   \n",
       "25%                 40.720196               -74.000271      304.000000   \n",
       "50%                 40.735877               -73.990765      402.000000   \n",
       "75%                 40.750020               -73.981923      483.000000   \n",
       "max                 40.770513               -73.950048     3002.000000   \n",
       "\n",
       "       end_station_latitude  end_station_longitude    birth_year        gender  \n",
       "count          50000.000000           50000.000000  43021.000000  50000.000000  \n",
       "mean              40.733859             -73.991351   1975.627786      1.073540  \n",
       "std                0.019885               0.012569     11.089001      0.589389  \n",
       "min               40.680342             -74.017134   1899.000000      0.000000  \n",
       "25%               40.720196             -74.001547   1968.000000      1.000000  \n",
       "50%               40.735354             -73.991218   1978.000000      1.000000  \n",
       "75%               40.749013             -73.982050   1984.000000      1.000000  \n",
       "max               40.770513             -73.950048   1997.000000      2.000000  "
      ]
     },
     "execution_count": 8,
     "metadata": {},
     "output_type": "execute_result"
    }
   ],
   "source": [
    "# Descriptive statistics for citibike\n",
    "\n",
    "citibike.describe()"
   ]
  },
  {
   "cell_type": "markdown",
   "id": "31f34141",
   "metadata": {},
   "source": [
    "## Change data type"
   ]
  },
  {
   "cell_type": "code",
   "execution_count": 9,
   "id": "e3218355",
   "metadata": {},
   "outputs": [],
   "source": [
    "# Change data type for bike_id\n",
    "\n",
    "citibike['bike_id'] = citibike['bike_id'].astype('str')"
   ]
  },
  {
   "cell_type": "code",
   "execution_count": 22,
   "id": "3e4d5ce3",
   "metadata": {},
   "outputs": [],
   "source": [
    "# Change data type for start_station_id\n",
    "\n",
    "citibike['start_station_id'] = citibike['start_station_id'].astype('str')"
   ]
  },
  {
   "cell_type": "code",
   "execution_count": 23,
   "id": "4112291b",
   "metadata": {},
   "outputs": [],
   "source": [
    "# Change data type for end_station_id\n",
    "\n",
    "citibike['end_station_id'] = citibike['end_station_id'].astype('str')"
   ]
  },
  {
   "cell_type": "code",
   "execution_count": 24,
   "id": "3dac4933",
   "metadata": {},
   "outputs": [
    {
     "name": "stdout",
     "output_type": "stream",
     "text": [
      "<class 'pandas.core.frame.DataFrame'>\n",
      "RangeIndex: 50000 entries, 0 to 49999\n",
      "Data columns (total 18 columns):\n",
      " #   Column                   Non-Null Count  Dtype  \n",
      "---  ------                   --------------  -----  \n",
      " 0   trip_id                  50000 non-null  object \n",
      " 1   bike_id                  50000 non-null  object \n",
      " 2   day_of_week              50000 non-null  object \n",
      " 3   start_hour               50000 non-null  int64  \n",
      " 4   start_time               50000 non-null  object \n",
      " 5   end_time                 50000 non-null  object \n",
      " 6   trip_duration            50000 non-null  int64  \n",
      " 7   start_station_id         50000 non-null  object \n",
      " 8   start_station_name       50000 non-null  object \n",
      " 9   start_station_latitude   50000 non-null  float64\n",
      " 10  start_station_longitude  50000 non-null  float64\n",
      " 11  end_station_id           50000 non-null  object \n",
      " 12  end_station_name         50000 non-null  object \n",
      " 13  end_station_latitude     50000 non-null  float64\n",
      " 14  end_station_longitude    50000 non-null  float64\n",
      " 15  subscriber               50000 non-null  object \n",
      " 16  birth_year               43021 non-null  float64\n",
      " 17  gender                   50000 non-null  int64  \n",
      "dtypes: float64(5), int64(3), object(10)\n",
      "memory usage: 6.9+ MB\n"
     ]
    }
   ],
   "source": [
    "# Check info of cikibike\n",
    "\n",
    "citibike.info()"
   ]
  },
  {
   "cell_type": "markdown",
   "id": "9671bd94",
   "metadata": {},
   "source": [
    "## Check for Null"
   ]
  },
  {
   "cell_type": "code",
   "execution_count": 11,
   "id": "0efa069c",
   "metadata": {},
   "outputs": [
    {
     "data": {
      "text/plain": [
       "trip_id                       0\n",
       "bike_id                       0\n",
       "day_of_week                   0\n",
       "start_hour                    0\n",
       "start_time                    0\n",
       "end_time                      0\n",
       "trip_duration                 0\n",
       "start_station_id              0\n",
       "start_station_name            0\n",
       "start_station_latitude        0\n",
       "start_station_longitude       0\n",
       "end_station_id                0\n",
       "end_station_name              0\n",
       "end_station_latitude          0\n",
       "end_station_longitude         0\n",
       "subscriber                    0\n",
       "birth_year                 6979\n",
       "gender                        0\n",
       "dtype: int64"
      ]
     },
     "execution_count": 11,
     "metadata": {},
     "output_type": "execute_result"
    }
   ],
   "source": [
    "# Check for nulls\n",
    "\n",
    "citibike.isnull().sum()"
   ]
  },
  {
   "cell_type": "code",
   "execution_count": 19,
   "id": "41492903",
   "metadata": {},
   "outputs": [],
   "source": [
    "na_birth_year = citibike[citibike['birth_year'].isnull() == True]"
   ]
  },
  {
   "cell_type": "code",
   "execution_count": 20,
   "id": "db633bb2",
   "metadata": {},
   "outputs": [
    {
     "data": {
      "text/plain": [
       "(6979, 18)"
      ]
     },
     "execution_count": 20,
     "metadata": {},
     "output_type": "execute_result"
    }
   ],
   "source": [
    "na_birth_year.shape"
   ]
  },
  {
   "cell_type": "markdown",
   "id": "063c2c47",
   "metadata": {},
   "source": [
    "#### Chose to keep birth_years with n/a because most content was non-subscribes. Which could be useful to data."
   ]
  },
  {
   "cell_type": "markdown",
   "id": "fb31b4b6",
   "metadata": {},
   "source": [
    "## Export Data"
   ]
  },
  {
   "cell_type": "code",
   "execution_count": 25,
   "id": "59d4da64",
   "metadata": {},
   "outputs": [],
   "source": [
    "# Extract citibike_clean.csv\n",
    "\n",
    "citibike.to_csv(os.path.join(path, 'Data', 'citibike_clean.csv'))"
   ]
  },
  {
   "cell_type": "code",
   "execution_count": null,
   "id": "085ac3db",
   "metadata": {},
   "outputs": [],
   "source": []
  }
 ],
 "metadata": {
  "kernelspec": {
   "display_name": "Python 3 (ipykernel)",
   "language": "python",
   "name": "python3"
  },
  "language_info": {
   "codemirror_mode": {
    "name": "ipython",
    "version": 3
   },
   "file_extension": ".py",
   "mimetype": "text/x-python",
   "name": "python",
   "nbconvert_exporter": "python",
   "pygments_lexer": "ipython3",
   "version": "3.10.9"
  }
 },
 "nbformat": 4,
 "nbformat_minor": 5
}
