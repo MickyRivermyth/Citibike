{
 "cells": [
  {
   "cell_type": "code",
   "execution_count": 1,
   "id": "648cbe3c",
   "metadata": {},
   "outputs": [],
   "source": [
    "# Import libraries\n",
    "\n",
    "import pandas as pd\n",
    "import numpy as np\n",
    "import seaborn as sns\n",
    "import matplotlib.pyplot as plt\n",
    "import matplotlib\n",
    "import os"
   ]
  },
  {
   "cell_type": "code",
   "execution_count": 2,
   "id": "e75c3714",
   "metadata": {},
   "outputs": [],
   "source": [
    "# Path\n",
    "\n",
    "path = r'C:\\Users\\micky\\OneDrive\\Documents\\Data Analytics Course\\Data Immersion\\Achievement 6\\Citibike Project'"
   ]
  },
  {
   "cell_type": "code",
   "execution_count": 3,
   "id": "1335d897",
   "metadata": {},
   "outputs": [],
   "source": [
    "# Import citibike_clean as cb_df\n",
    "\n",
    "cb_df = pd.read_csv(os.path.join(path, 'Data', 'citibike_clean.csv'), index_col = False)"
   ]
  },
  {
   "cell_type": "code",
   "execution_count": 5,
   "id": "24b3d317",
   "metadata": {},
   "outputs": [
    {
     "data": {
      "text/plain": [
       "Unnamed: 0                    0\n",
       "trip_id                       0\n",
       "bike_id                       0\n",
       "day_of_week                   0\n",
       "start_hour                    0\n",
       "start_time                    0\n",
       "end_time                      0\n",
       "trip_duration                 0\n",
       "start_station_id              0\n",
       "start_station_name            0\n",
       "start_station_latitude        0\n",
       "start_station_longitude       0\n",
       "end_station_id                0\n",
       "end_station_name              0\n",
       "end_station_latitude          0\n",
       "end_station_longitude         0\n",
       "subscriber                    0\n",
       "birth_year                 6979\n",
       "gender                        0\n",
       "dtype: int64"
      ]
     },
     "execution_count": 5,
     "metadata": {},
     "output_type": "execute_result"
    }
   ],
   "source": [
    "# Check for missing values\n",
    "\n",
    "cb_df.isnull().sum()"
   ]
  },
  {
   "cell_type": "code",
   "execution_count": 6,
   "id": "007e7c05",
   "metadata": {},
   "outputs": [],
   "source": [
    "no_birth = cb_df[cb_df['birth_year'].isnull() ==True]"
   ]
  },
  {
   "cell_type": "code",
   "execution_count": 7,
   "id": "958762ad",
   "metadata": {},
   "outputs": [
    {
     "data": {
      "text/plain": [
       "(6979, 19)"
      ]
     },
     "execution_count": 7,
     "metadata": {},
     "output_type": "execute_result"
    }
   ],
   "source": [
    "no_birth.shape"
   ]
  },
  {
   "cell_type": "code",
   "execution_count": 12,
   "id": "5a40ee0f",
   "metadata": {},
   "outputs": [],
   "source": [
    "#Dropping n/a values\n",
    "\n",
    "cb_df_clean = cb_df[cb_df['birth_year'].isnull() == False]"
   ]
  },
  {
   "cell_type": "code",
   "execution_count": 13,
   "id": "c3cb16f2",
   "metadata": {},
   "outputs": [
    {
     "data": {
      "text/plain": [
       "(42993, 19)"
      ]
     },
     "execution_count": 13,
     "metadata": {},
     "output_type": "execute_result"
    }
   ],
   "source": [
    "cb_df_clean.shape"
   ]
  },
  {
   "cell_type": "code",
   "execution_count": 14,
   "id": "5f853f0b",
   "metadata": {},
   "outputs": [],
   "source": [
    "# Drop multiple columns\n",
    "\n",
    "cb_df_clean2 = cb_df_clean.drop(['Unnamed: 0', 'trip_id', 'bike_id', 'start_station_id', 'end_station_id', 'start_time', 'end_time', 'day_of_week', 'start_station_name', 'end_station_name', 'subscriber'], axis=1)"
   ]
  },
  {
   "cell_type": "code",
   "execution_count": 16,
   "id": "ead31ffe",
   "metadata": {},
   "outputs": [
    {
     "name": "stdout",
     "output_type": "stream",
     "text": [
      "<class 'pandas.core.frame.DataFrame'>\n",
      "Int64Index: 42993 entries, 0 to 49971\n",
      "Data columns (total 8 columns):\n",
      " #   Column                   Non-Null Count  Dtype  \n",
      "---  ------                   --------------  -----  \n",
      " 0   start_hour               42993 non-null  int64  \n",
      " 1   trip_duration            42993 non-null  int64  \n",
      " 2   start_station_latitude   42993 non-null  float64\n",
      " 3   start_station_longitude  42993 non-null  float64\n",
      " 4   end_station_latitude     42993 non-null  float64\n",
      " 5   end_station_longitude    42993 non-null  float64\n",
      " 6   birth_year               42993 non-null  float64\n",
      " 7   gender                   42993 non-null  int64  \n",
      "dtypes: float64(5), int64(3)\n",
      "memory usage: 3.0 MB\n"
     ]
    }
   ],
   "source": [
    "# Check cb_df_clean\n",
    "\n",
    "cb_df_clean2.info()"
   ]
  },
  {
   "cell_type": "code",
   "execution_count": 17,
   "id": "2b7df95f",
   "metadata": {},
   "outputs": [],
   "source": [
    "for col in cb_df_clean.columns.tolist():\n",
    "      weird = (cb_df_clean[[col]].applymap(type) != cb_df_clean[[col]].iloc[0].apply(type)).any(axis = 1)\n",
    "      if len (cb_df_clean[weird]) > 0:\n",
    "        print (col)"
   ]
  },
  {
   "cell_type": "code",
   "execution_count": 19,
   "id": "2d60ed1b",
   "metadata": {},
   "outputs": [
    {
     "data": {
      "text/html": [
       "<div>\n",
       "<style scoped>\n",
       "    .dataframe tbody tr th:only-of-type {\n",
       "        vertical-align: middle;\n",
       "    }\n",
       "\n",
       "    .dataframe tbody tr th {\n",
       "        vertical-align: top;\n",
       "    }\n",
       "\n",
       "    .dataframe thead th {\n",
       "        text-align: right;\n",
       "    }\n",
       "</style>\n",
       "<table border=\"1\" class=\"dataframe\">\n",
       "  <thead>\n",
       "    <tr style=\"text-align: right;\">\n",
       "      <th></th>\n",
       "      <th>start_hour</th>\n",
       "      <th>trip_duration</th>\n",
       "      <th>start_station_latitude</th>\n",
       "      <th>start_station_longitude</th>\n",
       "      <th>end_station_latitude</th>\n",
       "      <th>end_station_longitude</th>\n",
       "      <th>birth_year</th>\n",
       "      <th>gender</th>\n",
       "    </tr>\n",
       "  </thead>\n",
       "  <tbody>\n",
       "    <tr>\n",
       "      <th>start_hour</th>\n",
       "      <td>1.000000</td>\n",
       "      <td>0.048753</td>\n",
       "      <td>-0.003228</td>\n",
       "      <td>-0.045644</td>\n",
       "      <td>-0.037997</td>\n",
       "      <td>0.010231</td>\n",
       "      <td>0.064049</td>\n",
       "      <td>0.013930</td>\n",
       "    </tr>\n",
       "    <tr>\n",
       "      <th>trip_duration</th>\n",
       "      <td>0.048753</td>\n",
       "      <td>1.000000</td>\n",
       "      <td>-0.016408</td>\n",
       "      <td>0.001572</td>\n",
       "      <td>-0.046746</td>\n",
       "      <td>-0.000024</td>\n",
       "      <td>-0.046076</td>\n",
       "      <td>0.102948</td>\n",
       "    </tr>\n",
       "    <tr>\n",
       "      <th>start_station_latitude</th>\n",
       "      <td>-0.003228</td>\n",
       "      <td>-0.016408</td>\n",
       "      <td>1.000000</td>\n",
       "      <td>0.203817</td>\n",
       "      <td>0.579007</td>\n",
       "      <td>0.067596</td>\n",
       "      <td>-0.046369</td>\n",
       "      <td>-0.065446</td>\n",
       "    </tr>\n",
       "    <tr>\n",
       "      <th>start_station_longitude</th>\n",
       "      <td>-0.045644</td>\n",
       "      <td>0.001572</td>\n",
       "      <td>0.203817</td>\n",
       "      <td>1.000000</td>\n",
       "      <td>0.082088</td>\n",
       "      <td>0.403150</td>\n",
       "      <td>0.028715</td>\n",
       "      <td>-0.018369</td>\n",
       "    </tr>\n",
       "    <tr>\n",
       "      <th>end_station_latitude</th>\n",
       "      <td>-0.037997</td>\n",
       "      <td>-0.046746</td>\n",
       "      <td>0.579007</td>\n",
       "      <td>0.082088</td>\n",
       "      <td>1.000000</td>\n",
       "      <td>0.189827</td>\n",
       "      <td>-0.042970</td>\n",
       "      <td>-0.062168</td>\n",
       "    </tr>\n",
       "    <tr>\n",
       "      <th>end_station_longitude</th>\n",
       "      <td>0.010231</td>\n",
       "      <td>-0.000024</td>\n",
       "      <td>0.067596</td>\n",
       "      <td>0.403150</td>\n",
       "      <td>0.189827</td>\n",
       "      <td>1.000000</td>\n",
       "      <td>0.039176</td>\n",
       "      <td>-0.023609</td>\n",
       "    </tr>\n",
       "    <tr>\n",
       "      <th>birth_year</th>\n",
       "      <td>0.064049</td>\n",
       "      <td>-0.046076</td>\n",
       "      <td>-0.046369</td>\n",
       "      <td>0.028715</td>\n",
       "      <td>-0.042970</td>\n",
       "      <td>0.039176</td>\n",
       "      <td>1.000000</td>\n",
       "      <td>0.068891</td>\n",
       "    </tr>\n",
       "    <tr>\n",
       "      <th>gender</th>\n",
       "      <td>0.013930</td>\n",
       "      <td>0.102948</td>\n",
       "      <td>-0.065446</td>\n",
       "      <td>-0.018369</td>\n",
       "      <td>-0.062168</td>\n",
       "      <td>-0.023609</td>\n",
       "      <td>0.068891</td>\n",
       "      <td>1.000000</td>\n",
       "    </tr>\n",
       "  </tbody>\n",
       "</table>\n",
       "</div>"
      ],
      "text/plain": [
       "                         start_hour  trip_duration  start_station_latitude  \\\n",
       "start_hour                 1.000000       0.048753               -0.003228   \n",
       "trip_duration              0.048753       1.000000               -0.016408   \n",
       "start_station_latitude    -0.003228      -0.016408                1.000000   \n",
       "start_station_longitude   -0.045644       0.001572                0.203817   \n",
       "end_station_latitude      -0.037997      -0.046746                0.579007   \n",
       "end_station_longitude      0.010231      -0.000024                0.067596   \n",
       "birth_year                 0.064049      -0.046076               -0.046369   \n",
       "gender                     0.013930       0.102948               -0.065446   \n",
       "\n",
       "                         start_station_longitude  end_station_latitude  \\\n",
       "start_hour                             -0.045644             -0.037997   \n",
       "trip_duration                           0.001572             -0.046746   \n",
       "start_station_latitude                  0.203817              0.579007   \n",
       "start_station_longitude                 1.000000              0.082088   \n",
       "end_station_latitude                    0.082088              1.000000   \n",
       "end_station_longitude                   0.403150              0.189827   \n",
       "birth_year                              0.028715             -0.042970   \n",
       "gender                                 -0.018369             -0.062168   \n",
       "\n",
       "                         end_station_longitude  birth_year    gender  \n",
       "start_hour                            0.010231    0.064049  0.013930  \n",
       "trip_duration                        -0.000024   -0.046076  0.102948  \n",
       "start_station_latitude                0.067596   -0.046369 -0.065446  \n",
       "start_station_longitude               0.403150    0.028715 -0.018369  \n",
       "end_station_latitude                  0.189827   -0.042970 -0.062168  \n",
       "end_station_longitude                 1.000000    0.039176 -0.023609  \n",
       "birth_year                            0.039176    1.000000  0.068891  \n",
       "gender                               -0.023609    0.068891  1.000000  "
      ]
     },
     "execution_count": 19,
     "metadata": {},
     "output_type": "execute_result"
    }
   ],
   "source": [
    "# Create a correlation matrix using pandas\n",
    "\n",
    "cb_df_clean2.corr()"
   ]
  },
  {
   "cell_type": "code",
   "execution_count": null,
   "id": "e9f8e621",
   "metadata": {},
   "outputs": [],
   "source": []
  }
 ],
 "metadata": {
  "kernelspec": {
   "display_name": "Python 3 (ipykernel)",
   "language": "python",
   "name": "python3"
  },
  "language_info": {
   "codemirror_mode": {
    "name": "ipython",
    "version": 3
   },
   "file_extension": ".py",
   "mimetype": "text/x-python",
   "name": "python",
   "nbconvert_exporter": "python",
   "pygments_lexer": "ipython3",
   "version": "3.10.9"
  }
 },
 "nbformat": 4,
 "nbformat_minor": 5
}
